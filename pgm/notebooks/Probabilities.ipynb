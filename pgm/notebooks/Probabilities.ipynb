{
 "cells": [
  {
   "cell_type": "code",
   "execution_count": 1,
   "metadata": {
    "collapsed": false
   },
   "outputs": [
    {
     "name": "stdout",
     "output_type": "stream",
     "text": [
      "Populating the interactive namespace from numpy and matplotlib\n",
      "Python 2.7.10 |Anaconda 2.3.0 (x86_64)| (default, May 28 2015, 17:04:42) \n",
      "[GCC 4.2.1 (Apple Inc. build 5577)] on darwin\n"
     ]
    }
   ],
   "source": [
    "%pylab inline\n",
    "%matplotlib inline\n",
    "import sys; print('Python %s on %s' % (sys.version, sys.platform))\n",
    "sys.path.extend(['/Users/Argen/Documents/MAS/R&D/Code/pgm'])"
   ]
  },
  {
   "cell_type": "code",
   "execution_count": 2,
   "metadata": {
    "collapsed": true
   },
   "outputs": [],
   "source": [
    "import matplotlib.pylab as pylab\n",
    "pylab.rcParams['figure.figsize'] = 16, 12  # that's default image size for this interactive session"
   ]
  },
  {
   "cell_type": "code",
   "execution_count": 3,
   "metadata": {
    "collapsed": true
   },
   "outputs": [],
   "source": [
    "import numpy as np\n",
    "from itertools import combinations, izip, product\n",
    "import matplotlib.pyplot as plt"
   ]
  },
  {
   "cell_type": "code",
   "execution_count": 4,
   "metadata": {
    "collapsed": true
   },
   "outputs": [],
   "source": [
    "import networkx as nx\n",
    "import pandas as pd"
   ]
  },
  {
   "cell_type": "code",
   "execution_count": 5,
   "metadata": {
    "collapsed": true
   },
   "outputs": [],
   "source": [
    "from pgm.utils.tools import draw_graph, node_types\n",
    "from pgm.nodes.chance import Chance, CPT\n",
    "from pgm.nodes.decision import Decision\n",
    "from pgm.nodes.utility import Utility, UT"
   ]
  },
  {
   "cell_type": "code",
   "execution_count": 6,
   "metadata": {
    "collapsed": false
   },
   "outputs": [],
   "source": [
    "nodes = [('A', {'domain': ['T', 'F'], 'type': 'chance'}), \n",
    "         ('C', {'domain': ['T', 'F'], 'type': 'chance'}), \n",
    "         ('B', {'domain': ['T', 'F'], 'type': 'chance'}), \n",
    "         ('E', {'domain': ['T', 'F'], 'type': 'chance'}), \n",
    "         ('D', {'domain': ['T', 'F'], 'type': 'chance'}), \n",
    "         ('G', {'domain': ['T', 'F'], 'type': 'chance'}), \n",
    "         ('F', {'domain': ['T', 'F'], 'type': 'chance'}), \n",
    "         ('I', {'domain': ['T', 'F'], 'type': 'chance'}), \n",
    "         ('H', {'domain': ['T', 'F'], 'type': 'chance'}), \n",
    "         ('K', {'domain': ['T', 'F'], 'type': 'chance'}), \n",
    "         ('J', {'domain': ['T', 'F'], 'type': 'chance'}), \n",
    "         ('L', {'domain': ['T', 'F'], 'type': 'chance'}), \n",
    "         ('V1', {'type': 'utility'}), \n",
    "         ('V2', {'type': 'utility'}), \n",
    "         ('V3', {'type': 'utility'}), \n",
    "         ('V4', {'type': 'utility'}), \n",
    "         ('D4', {'domain': ['d1', 'd2'], 'type': 'decision'}), \n",
    "         ('D2', {'domain': ['d1', 'd2'], 'type': 'decision'}), \n",
    "         ('D3', {'domain': ['d1', 'd2'], 'type': 'decision'}), \n",
    "         ('D1', {'domain': ['d1', 'd2'], 'type': 'decision'})]\n",
    "\n",
    "edges = [('A', 'C', {'type': 'causal'}), \n",
    "         ('C', 'E', {'type': 'causal'}), \n",
    "         ('B', 'C', {'type': 'causal'}), \n",
    "         ('B', 'D', {'type': 'causal'}), \n",
    "         ('B', 'D1', {'type': 'causal'}), \n",
    "         ('E', 'D2', {'type': 'causal'}), \n",
    "         ('E', 'G', {'type': 'causal'}), \n",
    "         ('D', 'E', {'type': 'causal'}), \n",
    "         ('D', 'F', {'type': 'causal'}), \n",
    "         ('G', 'I', {'type': 'causal'}), \n",
    "         ('G', 'D4', {'type': 'causal'}), \n",
    "         ('F', 'H', {'type': 'causal'}), \n",
    "         ('F', 'D2', {'type': 'causal'}), \n",
    "         ('I', 'L', {'type': 'causal'}), \n",
    "         ('H', 'K', {'type': 'causal'}), \n",
    "         ('H', 'J', {'type': 'causal'}), \n",
    "         ('K', 'V3', {'type': 'causal'}), \n",
    "         ('J', 'V3', {'type': 'causal'}), \n",
    "         ('L', 'V4', {'type': 'causal'}), \n",
    "         ('D4', 'L', {'type': 'causal'}), \n",
    "         ('D2', 'I', {'type': 'causal'}), \n",
    "         ('D2', 'D3', {'type': 'causal'}), \n",
    "         ('D3', 'D4', {'type': 'causal'}), \n",
    "         ('D3', 'K', {'type': 'causal'}), \n",
    "         ('D3', 'V2', {'type': 'causal'}), \n",
    "         ('D1', 'V1', {'type': 'causal'}), \n",
    "         ('D1', 'D', {'type': 'causal'})]"
   ]
  },
  {
   "cell_type": "code",
   "execution_count": 7,
   "metadata": {
    "collapsed": false
   },
   "outputs": [
    {
     "name": "stdout",
     "output_type": "stream",
     "text": [
      "other\n"
     ]
    },
    {
     "data": {
      "image/png": "[encoded data removed]",
      "text/plain": [
       "<matplotlib.figure.Figure at 0x1043dba10>"
      ]
     },
     "metadata": {},
     "output_type": "display_data"
    }
   ],
   "source": [
    "net = nx.DiGraph()\n",
    "net.add_nodes_from(nodes)\n",
    "net.add_edges_from(edges)\n",
    "\n",
    "pos = nx.graphviz_layout(net, prog='dot')\n",
    "draw_graph(net)"
   ]
  },
  {
   "cell_type": "markdown",
   "metadata": {},
   "source": [
    "### Conditional Probability Tables"
   ]
  },
  {
   "cell_type": "code",
   "execution_count": 8,
   "metadata": {
    "collapsed": false
   },
   "outputs": [
    {
     "data": {
      "text/plain": [
       "A\n",
       "T    0.8\n",
       "F    0.2\n",
       "Name: A, dtype: float64"
      ]
     },
     "execution_count": 8,
     "metadata": {},
     "output_type": "execute_result"
    }
   ],
   "source": [
    "def cpt(graph, node, data):\n",
    "    domain = graph.node[node]['domain']\n",
    "    n = 1\n",
    "    m = len(domain)\n",
    "    \n",
    "    parents = graph.predecessors(node)\n",
    "    \n",
    "    parents_names = []\n",
    "    parents_domains = []  \n",
    "    \n",
    "    rows = pd.MultiIndex.from_product([domain], names=[node])\n",
    "    \n",
    "    for parent in parents:\n",
    "            dom = graph.node[parent]['domain']\n",
    "            n = n * len(dom)\n",
    "            parents_names.append(parent)\n",
    "            parents_domains.append(dom)\n",
    "    \n",
    "    if parents and data.shape == (m,n):\n",
    "        values = data\n",
    "    elif not parents and (data.shape ==(m,) or data.shape == (m,1)):\n",
    "        values = data.flatten()\n",
    "    else:\n",
    "        print 'Data error, shape should be (%i,%i)'%(m, n)\n",
    "        values = np.zeros((m,n))\n",
    "    \n",
    "    if parents:\n",
    "        cols = pd.MultiIndex.from_product(parents_domains, names=parents_names)\n",
    "        table = pd.DataFrame(values, index=rows, columns=cols)\n",
    "    else:\n",
    "        table = pd.Series(values, index=rows,name=node)\n",
    "    return table\n",
    "    \n",
    "    \n",
    "    \n",
    "data = np.array([[0.8,0.2]]).T\n",
    "a = cpt(net, 'A', data)\n",
    "a"
   ]
  },
  {
   "cell_type": "code",
   "execution_count": 9,
   "metadata": {
    "collapsed": false
   },
   "outputs": [
    {
     "name": "stdout",
     "output_type": "stream",
     "text": [
      "(2, 4)\n"
     ]
    },
    {
     "data": {
      "text/html": [
       "<div>\n",
       "<table border=\"1\" class=\"dataframe\">\n",
       "  <thead>\n",
       "    <tr>\n",
       "      <th>C</th>\n",
       "      <th colspan=\"2\" halign=\"left\">T</th>\n",
       "      <th colspan=\"2\" halign=\"left\">F</th>\n",
       "    </tr>\n",
       "    <tr>\n",
       "      <th>D</th>\n",
       "      <th>T</th>\n",
       "      <th>F</th>\n",
       "      <th>T</th>\n",
       "      <th>F</th>\n",
       "    </tr>\n",
       "    <tr>\n",
       "      <th>E</th>\n",
       "      <th></th>\n",
       "      <th></th>\n",
       "      <th></th>\n",
       "      <th></th>\n",
       "    </tr>\n",
       "  </thead>\n",
       "  <tbody>\n",
       "    <tr>\n",
       "      <th>T</th>\n",
       "      <td>0.8</td>\n",
       "      <td>0.6</td>\n",
       "      <td>0.3</td>\n",
       "      <td>0.25</td>\n",
       "    </tr>\n",
       "    <tr>\n",
       "      <th>F</th>\n",
       "      <td>0.2</td>\n",
       "      <td>0.4</td>\n",
       "      <td>0.7</td>\n",
       "      <td>0.75</td>\n",
       "    </tr>\n",
       "  </tbody>\n",
       "</table>\n",
       "</div>"
      ],
      "text/plain": [
       "C    T         F      \n",
       "D    T    F    T     F\n",
       "E                     \n",
       "T  0.8  0.6  0.3  0.25\n",
       "F  0.2  0.4  0.7  0.75"
      ]
     },
     "execution_count": 9,
     "metadata": {},
     "output_type": "execute_result"
    }
   ],
   "source": [
    "data = np.array([[0.8,0.2], [0.6,0.4],[0.3,0.7],[0.25,0.75]]).T\n",
    "print data.shape\n",
    "e = cpt(net, 'E', data)\n",
    "e"
   ]
  },
  {
   "cell_type": "code",
   "execution_count": 10,
   "metadata": {
    "collapsed": false
   },
   "outputs": [
    {
     "data": {
      "text/html": [
       "<div>\n",
       "<table border=\"1\" class=\"dataframe\">\n",
       "  <thead>\n",
       "    <tr style=\"text-align: right;\">\n",
       "      <th></th>\n",
       "      <th>V3</th>\n",
       "      <th>V3</th>\n",
       "    </tr>\n",
       "    <tr>\n",
       "      <th>K</th>\n",
       "      <th>J</th>\n",
       "      <th></th>\n",
       "    </tr>\n",
       "  </thead>\n",
       "  <tbody>\n",
       "    <tr>\n",
       "      <th rowspan=\"2\" valign=\"top\">T</th>\n",
       "      <th>T</th>\n",
       "      <td>10</td>\n",
       "    </tr>\n",
       "    <tr>\n",
       "      <th>F</th>\n",
       "      <td>5</td>\n",
       "    </tr>\n",
       "    <tr>\n",
       "      <th rowspan=\"2\" valign=\"top\">F</th>\n",
       "      <th>T</th>\n",
       "      <td>3</td>\n",
       "    </tr>\n",
       "    <tr>\n",
       "      <th>F</th>\n",
       "      <td>2</td>\n",
       "    </tr>\n",
       "  </tbody>\n",
       "</table>\n",
       "</div>"
      ],
      "text/plain": [
       "V3   V3\n",
       "K J    \n",
       "T T  10\n",
       "  F   5\n",
       "F T   3\n",
       "  F   2"
      ]
     },
     "execution_count": 10,
     "metadata": {},
     "output_type": "execute_result"
    }
   ],
   "source": [
    "def ut(graph, node, data):\n",
    "    m = 1\n",
    "    n = 1\n",
    "    \n",
    "    parents = graph.predecessors(node)\n",
    "    \n",
    "    parents_names = []\n",
    "    parents_domains = []\n",
    "    \n",
    "    for parent in parents:\n",
    "        dom = graph.node[parent]['domain']\n",
    "        m = m * len(dom)\n",
    "        parents_names.append(parent)\n",
    "        parents_domains.append(dom)\n",
    "    \n",
    "    cols = pd.MultiIndex.from_product([node], names=[node])\n",
    "    rows = pd.MultiIndex.from_product(parents_domains, names=parents_names)\n",
    "\n",
    "    if data.shape == (m,) or data.shape== (m,1):\n",
    "        values = data\n",
    "    else:\n",
    "        print 'Data error, shape should be (%i,).'%(m,)\n",
    "        print 'Data shape: ', data.shape\n",
    "        values = np.zeros((m,1))\n",
    "    table = pd.DataFrame(values, index=rows, columns=cols)\n",
    "    #table = pd.Series(values,index=rows, name=node)\n",
    "    return table\n",
    "\n",
    "data = np.array([10,5,3,2])\n",
    "a = ut(net, 'V3', data)\n",
    "a\n"
   ]
  },
  {
   "cell_type": "code",
   "execution_count": 11,
   "metadata": {
    "collapsed": false
   },
   "outputs": [
    {
     "name": "stdout",
     "output_type": "stream",
     "text": [
      "A 2 1\n",
      "C 2 4\n",
      "B 2 1\n",
      "E 2 4\n",
      "D 2 4\n",
      "G 2 2\n",
      "F 2 2\n",
      "I 2 4\n",
      "H 2 2\n",
      "K 2 4\n",
      "J 2 2\n",
      "L 2 4\n",
      "V1 1 2\n",
      "V2 1 2\n",
      "V3 1 4\n",
      "V4 1 2\n"
     ]
    }
   ],
   "source": [
    "for node in net.nodes():\n",
    "    t = net.node[node]['type']\n",
    "    if t is 'chance':\n",
    "        domain = net.node[node]['domain']     \n",
    "        m = len(domain)\n",
    "    elif t is 'utility':\n",
    "        m=1      \n",
    "    if t is not 'decision':\n",
    "        n = 1\n",
    "        parents = net.predecessors(node)\n",
    "        for parent in parents:\n",
    "            dom = net.node[parent]['domain']\n",
    "            n = n * len(dom)\n",
    "        print node, m, n "
   ]
  },
  {
   "cell_type": "code",
   "execution_count": 12,
   "metadata": {
    "collapsed": false
   },
   "outputs": [
    {
     "name": "stdout",
     "output_type": "stream",
     "text": [
      "16 16\n"
     ]
    }
   ],
   "source": [
    "a = cpt(net, 'A', np.array([[0.8,0.2]]).T)\n",
    "b = cpt(net, 'B', np.array([[0.5,0.5]]).T)\n",
    "c = cpt(net, 'C', np.array([[0.7,0.3], [0.6,0.4],[0.3,0.7],[0.25,0.75]]).T)\n",
    "d = cpt(net, 'D', np.array([[0.5,0.5], [0.6,0.4],[0.3,0.7],[0.25,0.75]]).T)\n",
    "e = cpt(net, 'E', np.array([[0.8,0.2], [0.6,0.4],[0.3,0.7],[0.25,0.75]]).T)\n",
    "f = cpt(net, 'F', np.array([[0.6,0.4],[0.25,0.75]]).T)\n",
    "g = cpt(net, 'G', np.array([[0.3,0.7],[0.25,0.75]]).T)\n",
    "h = cpt(net, 'H', np.array([[0.5,0.5], [0.25,0.75]]).T)\n",
    "i = cpt(net, 'I', np.array([[0.8,0.2], [0.6,0.4],[0.3,0.7],[0.25,0.75]]).T)\n",
    "j = cpt(net, 'J', np.array([[0.3,0.7],[0.25,0.75]]).T)\n",
    "k = cpt(net, 'K', np.array([[0.8,0.2], [0.6,0.4],[0.3,0.7],[0.25,0.75]]).T)\n",
    "l = cpt(net, 'L', np.array([[0.9,0.1], [0.6,0.4],[0.3,0.7],[0.25,0.75]]).T)\n",
    "\n",
    "v1 = ut(net, 'V1', np.array([[10, 5]]).T)\n",
    "v2 = ut(net, 'V2', np.array([[100, 50]]).T)\n",
    "v3 = ut(net, 'V3', np.array([[30, 45, 80, 120]]).T)\n",
    "v4 = ut(net, 'V4', np.array([[90, 70]]).T)\n",
    "\n",
    "tables = [a,b,c,d,e,f,g,h,i,j,k,l,v1,v2,v3,v4]\n",
    "node_table = ['A','B','C','D','E','F','G','H','I','J','K','L','V1','V2','V3','V4']\n",
    "\n",
    "print len(tables), len(node_table)"
   ]
  },
  {
   "cell_type": "code",
   "execution_count": 13,
   "metadata": {
    "collapsed": false
   },
   "outputs": [],
   "source": [
    "def add_tables(graph, nodes, tables):\n",
    "    assert len(tables) == len(nodes)\n",
    "    nx.set_node_attributes(graph, 'table', dict(zip(nodes,tables)))\n",
    "        \n",
    "add_tables(net, node_table, tables)   "
   ]
  },
  {
   "cell_type": "markdown",
   "metadata": {},
   "source": [
    "###Validation\n",
    "\n",
    "1. Check that probabilities sum 1\n",
    "2. Check table sizes are correct"
   ]
  },
  {
   "cell_type": "code",
   "execution_count": 19,
   "metadata": {
    "collapsed": false
   },
   "outputs": [
    {
     "name": "stdout",
     "output_type": "stream",
     "text": [
      "['T', 'F']\n"
     ]
    },
    {
     "data": {
      "text/plain": [
       "True"
      ]
     },
     "execution_count": 19,
     "metadata": {},
     "output_type": "execute_result"
    }
   ],
   "source": [
    "e = net.node['E']['table']\n",
    "print net.node['E']['domain']\n",
    "(e.sum()==1).all()"
   ]
  },
  {
   "cell_type": "code",
   "execution_count": 23,
   "metadata": {
    "collapsed": false
   },
   "outputs": [
    {
     "data": {
      "text/plain": [
       "True"
      ]
     },
     "execution_count": 23,
     "metadata": {},
     "output_type": "execute_result"
    }
   ],
   "source": [
    "def validate(graph):\n",
    "    for n, d in graph.nodes_iter(data=True):\n",
    "        if d['type'] is 'chance':\n",
    "            if not (d['table'].sum()==1).all():\n",
    "                print 'Probability table in node %s should sum 1.'%n\n",
    "                return False            \n",
    "            x = 1\n",
    "            parents = graph.predecessors(n)\n",
    "            for parent in parents:\n",
    "                dom = graph.node[parent]['domain']\n",
    "                x = x * len(dom)\n",
    "            if parents and not d['table'].shape ==(len(d['domain']), x):\n",
    "                print 'Error in node %s'%n\n",
    "                return False\n",
    "            elif not parents and not d['table'].shape ==(len(d['domain']),):\n",
    "                print 'Error in node %s'%n\n",
    "                return False\n",
    "            \n",
    "        if d['type'] is 'utility':\n",
    "            m = 1\n",
    "            parents = graph.predecessors(n)\n",
    "            for parent in parents:\n",
    "                dom = graph.node[parent]['domain']\n",
    "                m = m * len(dom)\n",
    "            if not d['table'].shape ==(m, 1):\n",
    "                print 'Error in node %s'%n\n",
    "                return False\n",
    "    return True\n",
    "\n",
    "validate(net)\n"
   ]
  },
  {
   "cell_type": "markdown",
   "metadata": {},
   "source": [
    "###Evidence"
   ]
  },
  {
   "cell_type": "code",
   "execution_count": 53,
   "metadata": {
    "collapsed": false
   },
   "outputs": [
    {
     "data": {
      "text/plain": [
       "([E  C  D\n",
       "  T  F  F    0.25\n",
       "        T    0.30\n",
       "     T  F    0.60\n",
       "        T    0.80\n",
       "  F  F  F    0.75\n",
       "        T    0.70\n",
       "     T  F    0.40\n",
       "        T    0.20\n",
       "  dtype: float64], [{'C', 'D', 'E'}])"
      ]
     },
     "execution_count": 53,
     "metadata": {},
     "output_type": "execute_result"
    }
   ],
   "source": [
    "def unstack_potentials(potentials):\n",
    "    pots = []\n",
    "    var = []\n",
    "    for p in potentials:\n",
    "        x = p\n",
    "        if p.ndim != 1:\n",
    "            for i in p.columns.names:\n",
    "                x = x.stack(i)\n",
    "        pots.append(x)\n",
    "        var.append(set(x.index.names))\n",
    "    return pots, var\n",
    "\n",
    "unstack_potentials([e])"
   ]
  },
  {
   "cell_type": "code",
   "execution_count": 55,
   "metadata": {
    "collapsed": false
   },
   "outputs": [
    {
     "data": {
      "text/html": [
       "<div>\n",
       "<table border=\"1\" class=\"dataframe\">\n",
       "  <thead>\n",
       "    <tr>\n",
       "      <th>C</th>\n",
       "      <th colspan=\"2\" halign=\"left\">T</th>\n",
       "      <th colspan=\"2\" halign=\"left\">F</th>\n",
       "    </tr>\n",
       "    <tr>\n",
       "      <th>D</th>\n",
       "      <th>T</th>\n",
       "      <th>F</th>\n",
       "      <th>T</th>\n",
       "      <th>F</th>\n",
       "    </tr>\n",
       "    <tr>\n",
       "      <th>E</th>\n",
       "      <th></th>\n",
       "      <th></th>\n",
       "      <th></th>\n",
       "      <th></th>\n",
       "    </tr>\n",
       "  </thead>\n",
       "  <tbody>\n",
       "    <tr>\n",
       "      <th>T</th>\n",
       "      <td>0.8</td>\n",
       "      <td>0.6</td>\n",
       "      <td>0.3</td>\n",
       "      <td>0.25</td>\n",
       "    </tr>\n",
       "    <tr>\n",
       "      <th>F</th>\n",
       "      <td>0.2</td>\n",
       "      <td>0.4</td>\n",
       "      <td>0.7</td>\n",
       "      <td>0.75</td>\n",
       "    </tr>\n",
       "  </tbody>\n",
       "</table>\n",
       "</div>"
      ],
      "text/plain": [
       "C    T         F      \n",
       "D    T    F    T     F\n",
       "E                     \n",
       "T  0.8  0.6  0.3  0.25\n",
       "F  0.2  0.4  0.7  0.75"
      ]
     },
     "execution_count": 55,
     "metadata": {},
     "output_type": "execute_result"
    }
   ],
   "source": [
    "t = net.node['E']['table']\n",
    "\n",
    "def marginalize(var, table):\n",
    "    '''Variable must exist in table.\n",
    "    var is a list o variables to be summed out. '''\n",
    "    m, n = table.shape\n",
    "    t = table.copy(True)\n",
    "    \n",
    "    tables, variables = unstack_potentials([table])\n",
    "    t = tables[0]\n",
    "    print t\n",
    "    names = list(t.index.names)\n",
    "    for v in var:\n",
    "        names.remove(v)\n",
    "    \n",
    "    return t.groupby(level=names).sum()\n",
    "    \n",
    "    '''\n",
    "    if var in table.index.names:\n",
    "        names = list(table.index.names)\n",
    "        names.remove(var)\n",
    "        return table.groupby(level=names).sum()\n",
    "    elif var in table.columns.names:\n",
    "        names = list(table.columns.names)\n",
    "        names.remove(var)\n",
    "        return 1\n",
    "    '''\n",
    "\n",
    "e"
   ]
  },
  {
   "cell_type": "code",
   "execution_count": 56,
   "metadata": {
    "collapsed": false,
    "scrolled": false
   },
   "outputs": [
    {
     "name": "stdout",
     "output_type": "stream",
     "text": [
      "E  C  D\n",
      "T  F  F    0.25\n",
      "      T    0.30\n",
      "   T  F    0.60\n",
      "      T    0.80\n",
      "F  F  F    0.75\n",
      "      T    0.70\n",
      "   T  F    0.40\n",
      "      T    0.20\n",
      "dtype: float64\n"
     ]
    },
    {
     "data": {
      "text/plain": [
       "E  D\n",
       "T  F    0.85\n",
       "   T    1.10\n",
       "F  F    1.15\n",
       "   T    0.90\n",
       "dtype: float64"
      ]
     },
     "execution_count": 56,
     "metadata": {},
     "output_type": "execute_result"
    }
   ],
   "source": [
    "potential = marginalize(['C'], e)\n",
    "potential"
   ]
  },
  {
   "cell_type": "code",
   "execution_count": 20,
   "metadata": {
    "collapsed": false
   },
   "outputs": [
    {
     "name": "stdout",
     "output_type": "stream",
     "text": [
      "{'D': 'T'}\n",
      "('T',)\n",
      "()\n",
      "E    T    F\n",
      "D          \n",
      "T  0.8  0.2\n",
      "F  0.6  0.4\n"
     ]
    },
    {
     "name": "stderr",
     "output_type": "stream",
     "text": [
      "/Users/Argen/anaconda/lib/python2.7/site-packages/pandas/core/index.py:5091: PerformanceWarning: indexing past lexsort depth may impact performance.\n",
      "  PerformanceWarning)\n"
     ]
    }
   ],
   "source": [
    "def introduce_evidence(table,evidence):\n",
    "    print evidence\n",
    "    index = [evidence.get(t) for t in table.index.names if evidence.get(t) is not None]\n",
    "    columns = [evidence.get(t) for t in table.columns.names if evidence.get(t) is not None]    \n",
    "    print tuple(index)\n",
    "    print tuple(columns)\n",
    "    if index and columns:\n",
    "        print table.loc[tuple(index),tuple(columns)]\n",
    "    elif index:\n",
    "        print table.loc[tuple(index),:]\n",
    "    else:\n",
    "        print table.loc[:,tuple(columns)]\n",
    "    \n",
    "evidence = {'D':'T'}\n",
    "\n",
    "introduce_evidence(t,evidence)"
   ]
  },
  {
   "cell_type": "markdown",
   "metadata": {},
   "source": [
    "#### Multiplying potentials"
   ]
  },
  {
   "cell_type": "code",
   "execution_count": 21,
   "metadata": {
    "collapsed": false
   },
   "outputs": [
    {
     "data": {
      "text/html": [
       "<div>\n",
       "<table border=\"1\" class=\"dataframe\">\n",
       "  <thead>\n",
       "    <tr style=\"text-align: right;\">\n",
       "      <th>B</th>\n",
       "      <th>b1</th>\n",
       "      <th>b2</th>\n",
       "      <th>b3</th>\n",
       "    </tr>\n",
       "    <tr>\n",
       "      <th>C</th>\n",
       "      <th></th>\n",
       "      <th></th>\n",
       "      <th></th>\n",
       "    </tr>\n",
       "  </thead>\n",
       "  <tbody>\n",
       "    <tr>\n",
       "      <th>c1</th>\n",
       "      <td>0.20</td>\n",
       "      <td>0.90</td>\n",
       "      <td>0.30</td>\n",
       "    </tr>\n",
       "    <tr>\n",
       "      <th>c2</th>\n",
       "      <td>0.05</td>\n",
       "      <td>0.05</td>\n",
       "      <td>0.02</td>\n",
       "    </tr>\n",
       "    <tr>\n",
       "      <th>c3</th>\n",
       "      <td>0.75</td>\n",
       "      <td>0.05</td>\n",
       "      <td>0.50</td>\n",
       "    </tr>\n",
       "  </tbody>\n",
       "</table>\n",
       "</div>"
      ],
      "text/plain": [
       "B     b1    b2    b3\n",
       "C                   \n",
       "c1  0.20  0.90  0.30\n",
       "c2  0.05  0.05  0.02\n",
       "c3  0.75  0.05  0.50"
      ]
     },
     "execution_count": 21,
     "metadata": {},
     "output_type": "execute_result"
    }
   ],
   "source": [
    "rows = pd.MultiIndex.from_product([['c1', 'c2', 'c3']], names=['C'])\n",
    "cols = pd.MultiIndex.from_product([['b1','b2','b3']],names=['B'])\n",
    "pc_b = pd.DataFrame(np.array([[0.2,0.9,0.3],[0.05,0.05,0.02],[0.75,0.05,0.5]]), index=rows, columns=cols)\n",
    "pc_b"
   ]
  },
  {
   "cell_type": "code",
   "execution_count": 22,
   "metadata": {
    "collapsed": false
   },
   "outputs": [
    {
     "data": {
      "text/html": [
       "<div>\n",
       "<table border=\"1\" class=\"dataframe\">\n",
       "  <thead>\n",
       "    <tr style=\"text-align: right;\">\n",
       "      <th>B</th>\n",
       "      <th>b1</th>\n",
       "      <th>b2</th>\n",
       "      <th>b3</th>\n",
       "    </tr>\n",
       "    <tr>\n",
       "      <th>A</th>\n",
       "      <th></th>\n",
       "      <th></th>\n",
       "      <th></th>\n",
       "    </tr>\n",
       "  </thead>\n",
       "  <tbody>\n",
       "    <tr>\n",
       "      <th>a1</th>\n",
       "      <td>0.4</td>\n",
       "      <td>0.3</td>\n",
       "      <td>0.6</td>\n",
       "    </tr>\n",
       "    <tr>\n",
       "      <th>a2</th>\n",
       "      <td>0.6</td>\n",
       "      <td>0.7</td>\n",
       "      <td>0.4</td>\n",
       "    </tr>\n",
       "  </tbody>\n",
       "</table>\n",
       "</div>"
      ],
      "text/plain": [
       "B    b1   b2   b3\n",
       "A                \n",
       "a1  0.4  0.3  0.6\n",
       "a2  0.6  0.7  0.4"
      ]
     },
     "execution_count": 22,
     "metadata": {},
     "output_type": "execute_result"
    }
   ],
   "source": [
    "rows = pd.MultiIndex.from_product([['a1','a2']], names=['A'])\n",
    "cols = pd.MultiIndex.from_product([['b1','b2','b3']],names=['B'])\n",
    "pa_b = pd.DataFrame(np.array([[0.4,0.3,0.6],[0.6,0.7,0.4]]), index=rows, columns=cols)\n",
    "pa_b"
   ]
  },
  {
   "cell_type": "code",
   "execution_count": 23,
   "metadata": {
    "collapsed": false
   },
   "outputs": [
    {
     "data": {
      "text/plain": [
       "B\n",
       "b1    0.4\n",
       "b2    0.4\n",
       "b3    0.2\n",
       "Name: B, dtype: float64"
      ]
     },
     "execution_count": 23,
     "metadata": {},
     "output_type": "execute_result"
    }
   ],
   "source": [
    "rows = pd.MultiIndex.from_product([''], names=[''])\n",
    "cols = pd.MultiIndex.from_product([['b1','b2','b3']],names=['B'])\n",
    "pb = pd.Series(np.array([0.4,0.4,0.2]), index=cols,name='B')\n",
    "pb"
   ]
  },
  {
   "cell_type": "code",
   "execution_count": 24,
   "metadata": {
    "collapsed": false
   },
   "outputs": [
    {
     "data": {
      "text/plain": [
       "A\n",
       "a1    0.4\n",
       "a2    0.6\n",
       "Name: A, dtype: float64"
      ]
     },
     "execution_count": 24,
     "metadata": {},
     "output_type": "execute_result"
    }
   ],
   "source": [
    "rows = pd.MultiIndex.from_product([''], names=[''])\n",
    "cols = pd.MultiIndex.from_product([['a1','a2']],names=['A'])\n",
    "pa = pd.Series(np.array([0.4,0.6]), index=cols, name='A')\n",
    "pa"
   ]
  },
  {
   "cell_type": "code",
   "execution_count": 25,
   "metadata": {
    "collapsed": false
   },
   "outputs": [
    {
     "name": "stdout",
     "output_type": "stream",
     "text": [
      "['b1' 'b2' 'b3'] ['a1' 'a2']\n",
      "['b1' 'b2' 'b3'] ['c1' 'c2' 'c3']\n",
      "['b1' 'b2' 'b3']\n",
      "\n",
      "[u'B'] [u'A']\n",
      "[u'B'] [u'C']\n",
      "[u'B']\n"
     ]
    }
   ],
   "source": [
    "print pa_b.columns.values, pa_b.index.values\n",
    "print pc_b.columns.values, pc_b.index.values\n",
    "print pb.index.values\n",
    "print\n",
    "print pa_b.columns.names, pa_b.index.names\n",
    "print pc_b.columns.names, pc_b.index.names\n",
    "print pb.index.names\n"
   ]
  },
  {
   "cell_type": "code",
   "execution_count": 26,
   "metadata": {
    "collapsed": false
   },
   "outputs": [
    {
     "data": {
      "text/html": [
       "<div>\n",
       "<table border=\"1\" class=\"dataframe\">\n",
       "  <thead>\n",
       "    <tr style=\"text-align: right;\">\n",
       "      <th></th>\n",
       "      <th>B</th>\n",
       "      <th>b1</th>\n",
       "      <th>b2</th>\n",
       "      <th>b3</th>\n",
       "    </tr>\n",
       "    <tr>\n",
       "      <th>A</th>\n",
       "      <th>C</th>\n",
       "      <th></th>\n",
       "      <th></th>\n",
       "      <th></th>\n",
       "    </tr>\n",
       "  </thead>\n",
       "  <tbody>\n",
       "    <tr>\n",
       "      <th rowspan=\"3\" valign=\"top\">a1</th>\n",
       "      <th>c1</th>\n",
       "      <td>0.08</td>\n",
       "      <td>0.270</td>\n",
       "      <td>0.180</td>\n",
       "    </tr>\n",
       "    <tr>\n",
       "      <th>c2</th>\n",
       "      <td>0.02</td>\n",
       "      <td>0.015</td>\n",
       "      <td>0.012</td>\n",
       "    </tr>\n",
       "    <tr>\n",
       "      <th>c3</th>\n",
       "      <td>0.30</td>\n",
       "      <td>0.015</td>\n",
       "      <td>0.300</td>\n",
       "    </tr>\n",
       "    <tr>\n",
       "      <th rowspan=\"3\" valign=\"top\">a2</th>\n",
       "      <th>c1</th>\n",
       "      <td>0.12</td>\n",
       "      <td>0.630</td>\n",
       "      <td>0.120</td>\n",
       "    </tr>\n",
       "    <tr>\n",
       "      <th>c2</th>\n",
       "      <td>0.03</td>\n",
       "      <td>0.035</td>\n",
       "      <td>0.008</td>\n",
       "    </tr>\n",
       "    <tr>\n",
       "      <th>c3</th>\n",
       "      <td>0.45</td>\n",
       "      <td>0.035</td>\n",
       "      <td>0.200</td>\n",
       "    </tr>\n",
       "  </tbody>\n",
       "</table>\n",
       "</div>"
      ],
      "text/plain": [
       "B        b1     b2     b3\n",
       "A  C                     \n",
       "a1 c1  0.08  0.270  0.180\n",
       "   c2  0.02  0.015  0.012\n",
       "   c3  0.30  0.015  0.300\n",
       "a2 c1  0.12  0.630  0.120\n",
       "   c2  0.03  0.035  0.008\n",
       "   c3  0.45  0.035  0.200"
      ]
     },
     "execution_count": 26,
     "metadata": {},
     "output_type": "execute_result"
    }
   ],
   "source": [
    "def mult(pot1,pot2):\n",
    "    '''Tables must be aligned.'''\n",
    "    if pot1.ndim ==1 or pot2.ndim==1:\n",
    "        return pot1*pot2\n",
    "    else:\n",
    "        t1 = pd.concat([pot1]*pot2.shape[0],axis=0, keys=pot2.index.values, names=pot2.index.names)\n",
    "        t2 = pd.concat([pot2]*pot1.shape[0],axis=0, keys=pot1.index.values, names=pot1.index.names)\n",
    "        return t1.sort().combineMult(t2.reorder_levels(t1.index.names).sort())\n",
    "                \n",
    "pac_b = mult(pc_b,pa_b)\n",
    "pac_b"
   ]
  },
  {
   "cell_type": "code",
   "execution_count": 27,
   "metadata": {
    "collapsed": false
   },
   "outputs": [
    {
     "data": {
      "text/plain": [
       "[B    b1   b2   b3\n",
       " A                \n",
       " a1  0.4  0.3  0.6\n",
       " a2  0.6  0.7  0.4, B     b1    b2    b3\n",
       " C                   \n",
       " c1  0.20  0.90  0.30\n",
       " c2  0.05  0.05  0.02\n",
       " c3  0.75  0.05  0.50, B\n",
       " b1    0.4\n",
       " b2    0.4\n",
       " b3    0.2\n",
       " Name: B, dtype: float64]"
      ]
     },
     "execution_count": 27,
     "metadata": {},
     "output_type": "execute_result"
    }
   ],
   "source": [
    "\n",
    "\n",
    "def align(potentials, v, verbose=False):\n",
    "    '''Potentials must have variables in common, and be unstacked.'''\n",
    "    result = []\n",
    "    for p in potentials:\n",
    "        #print p\n",
    "        #print\n",
    "        if len(p.index.names) !=1:\n",
    "            result.append(p.unstack(level=v))\n",
    "        else:\n",
    "            result.append(p)   \n",
    "    if verbose:\n",
    "        for p in result:\n",
    "            print p\n",
    "            print\n",
    "    \n",
    "    return result\n",
    "\n",
    "potentials, variables = unstack_potentials([pa_b, pc_b, pb, pa])\n",
    "align([pa_b, pc_b, pb],['B'])\n"
   ]
  },
  {
   "cell_type": "code",
   "execution_count": 28,
   "metadata": {
    "collapsed": false
   },
   "outputs": [
    {
     "name": "stdout",
     "output_type": "stream",
     "text": [
      "Simplifying\n"
     ]
    },
    {
     "data": {
      "text/plain": [
       "[B\n",
       " b1    0.4\n",
       " b2    0.4\n",
       " b3    0.2\n",
       " Name: B, dtype: float64, A\n",
       " a1    0.4\n",
       " a2    0.6\n",
       " Name: A, dtype: float64]"
      ]
     },
     "execution_count": 28,
     "metadata": {},
     "output_type": "execute_result"
    }
   ],
   "source": [
    "def multiply_potentials2(potentials):\n",
    "    pots, var = unstack_potentials(potentials)\n",
    "    res = []\n",
    "    #print var\n",
    "    v = list(set.intersection(*var))\n",
    "    \n",
    "    while pots:\n",
    "        #print pots\n",
    "        if v:\n",
    "            #print 'Easy!'\n",
    "            aligned = align(pots, v)\n",
    "            result = aligned.pop()\n",
    "            for p in aligned:\n",
    "                result = mult(result,p)\n",
    "            return [result]\n",
    "        else:\n",
    "            #print 'Simplifying'\n",
    "            pot1 = pots.pop()\n",
    "            v1 = var.pop()\n",
    "            common = [pot1]\n",
    "            \n",
    "            for x in var:\n",
    "                if set.intersection(x, v1):\n",
    "                    common.append(pots.pop(var.index(x)))\n",
    "                    print var.index(x)\n",
    "                    var.remove(x)\n",
    "            if len(common)==1:\n",
    "                res.extend(common)\n",
    "                if len(pots)==1:\n",
    "                    res.extend(pots)\n",
    "                    return res\n",
    "            else:\n",
    "                result = multiply_potentials2(common)\n",
    "                result_unstacked, result_var = unstack_potentials(result)\n",
    "                pots.insert(0,*result_unstacked)\n",
    "                var.insert(0,*result_var)\n",
    "            v = list(set.intersection(*var))\n",
    "\n",
    "#multiply_potentials2([pa_b, pa, pc_b.T, pb])\n",
    "#multiply_potentials2([pa_b, pa])\n",
    "multiply_potentials2([pa,pb])"
   ]
  },
  {
   "cell_type": "code",
   "execution_count": null,
   "metadata": {
    "collapsed": true
   },
   "outputs": [],
   "source": []
  }
 ],
 "metadata": {
  "kernelspec": {
   "display_name": "Python 2",
   "language": "python",
   "name": "python2"
  },
  "language_info": {
   "codemirror_mode": {
    "name": "ipython",
    "version": 2
   },
   "file_extension": ".py",
   "mimetype": "text/x-python",
   "name": "python",
   "nbconvert_exporter": "python",
   "pygments_lexer": "ipython2",
   "version": "2.7.10"
  }
 },
 "nbformat": 4,
 "nbformat_minor": 0
}
