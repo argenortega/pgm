{
 "cells": [
  {
   "cell_type": "code",
   "execution_count": 1,
   "metadata": {
    "collapsed": false
   },
   "outputs": [
    {
     "name": "stdout",
     "output_type": "stream",
     "text": [
      "Populating the interactive namespace from numpy and matplotlib\n",
      "Python 2.7.10 |Anaconda 2.3.0 (x86_64)| (default, May 28 2015, 17:04:42) \n",
      "[GCC 4.2.1 (Apple Inc. build 5577)] on darwin\n"
     ]
    }
   ],
   "source": [
    "%pylab inline\n",
    "%matplotlib inline\n",
    "import sys; print('Python %s on %s' % (sys.version, sys.platform))\n",
    "sys.path.extend(['/Users/Argen/Documents/MAS/R&D/Code/pgm'])"
   ]
  },
  {
   "cell_type": "code",
   "execution_count": 2,
   "metadata": {
    "collapsed": true
   },
   "outputs": [],
   "source": [
    "import matplotlib.pylab as pylab\n",
    "pylab.rcParams['figure.figsize'] = 16, 12  # that's default image size for this interactive session"
   ]
  },
  {
   "cell_type": "code",
   "execution_count": 3,
   "metadata": {
    "collapsed": true
   },
   "outputs": [],
   "source": [
    "import numpy as np\n",
    "from itertools import combinations\n",
    "import matplotlib.pyplot as plt"
   ]
  },
  {
   "cell_type": "code",
   "execution_count": 4,
   "metadata": {
    "collapsed": true
   },
   "outputs": [],
   "source": [
    "import networkx as nx"
   ]
  },
  {
   "cell_type": "code",
   "execution_count": 5,
   "metadata": {
    "collapsed": true
   },
   "outputs": [],
   "source": [
    "from pgm.utils.tools import draw_graph, node_types\n",
    "from pgm.nodes.chance import Chance\n",
    "from pgm.nodes.decision import Decision\n",
    "from pgm.nodes.utility import Utility"
   ]
  },
  {
   "cell_type": "code",
   "execution_count": 6,
   "metadata": {
    "collapsed": true
   },
   "outputs": [],
   "source": [
    "def sp(x):\n",
    "    #return len(x[1]['domain'])\n",
    "    return len(T.node[x]['domain'])\n",
    "\n",
    "def sz(V):\n",
    "    s = 1\n",
    "    for v in V:\n",
    "        s = s * sp(v)\n",
    "    return s\n",
    "\n",
    "def fa(g, x, data=False):\n",
    "    f = [x]\n",
    "    if data:\n",
    "        for n in g.neighbors(x[0]):\n",
    "            f.append((n, g.node[n]))\n",
    "        return f\n",
    "    else:\n",
    "        f.extend(g.neighbors(x))\n",
    "        return f\n",
    "\n",
    "def nb(g, x, data=False):\n",
    "    neigh = []\n",
    "    if data:\n",
    "        for n in g.neighbors(x[0]):\n",
    "            neigh.append((n, g.node[n]))\n",
    "        return neigh\n",
    "    else:\n",
    "        return g.neighbors(x)\n",
    "\n",
    "def is_simplicial(g, x):\n",
    "    f = fa(g, x)\n",
    "    n = nb(g, x)\n",
    "    s = g.subgraph(f)\n",
    "    # draw_graph(s, pos_ex)\n",
    "    \n",
    "    if len(n)>1:\n",
    "        t = []\n",
    "        for e1, e2 in list(combinations(n, 2)):\n",
    "            if g.has_edge(e1, e2) or g.has_edge(e2, e1):\n",
    "                t.append(True)\n",
    "            else:\n",
    "                t.append(False)\n",
    "        if sum(t) == len(t):\n",
    "            return True\n",
    "        else:\n",
    "            return False\n",
    "    else:\n",
    "        return True"
   ]
  },
  {
   "cell_type": "code",
   "execution_count": 7,
   "metadata": {
    "collapsed": true
   },
   "outputs": [],
   "source": [
    "def triangulate(ugraph):\n",
    "    t = ugraph.copy()\n",
    "    fill_ins = []\n",
    "    cliques = []\n",
    "    \n",
    "    for n, w in sorted(windows.items(), reverse=True):\n",
    "        size = {}\n",
    "        for i in w:\n",
    "            size[i] = sz(fa(t, i))\n",
    "    \n",
    "        while size != {}:\n",
    "            # Remove simplicial nodes\n",
    "            simplicial = [n for n in size if is_simplicial(t, n)]\n",
    "    \n",
    "            if len(simplicial) > 0:\n",
    "                # print len(size), simplicial, t.nodes()\n",
    "    \n",
    "                for n in simplicial:\n",
    "                    f = fa(t,n)\n",
    "                    subset = filter(lambda x: set(f)< set(x), cliques)\n",
    "                    if subset == []:\n",
    "                        cliques.append(f)\n",
    "                    t.remove_node(n)\n",
    "                    size.pop(n)\n",
    "                # print t.nodes()\n",
    "            else:\n",
    "                # print len(size),t.nodes()\n",
    "                for i in size:\n",
    "                    size[i] = sz(fa(t, i))\n",
    "    \n",
    "                if len(size) > 0:\n",
    "                    candidate = min(size, key=size.get)\n",
    "                    # s = t.subgraph(fa(t, candidate))\n",
    "                    neigh = nb(t, candidate)\n",
    "    \n",
    "                    # print list(combinations(n, 2))\n",
    "                    fill = []\n",
    "                    # TODO: Algo esta mal con los cliques\n",
    "                    for e1, e2 in list(combinations(neigh, 2)):\n",
    "                        if not t.has_edge(e1, e2) or not t.has_edge(e2, e1):\n",
    "                            # print candidate, e1, e2\n",
    "                            t.add_edge(e1, e2)\n",
    "                            fill_ins.append((e1, e2))\n",
    "                            \n",
    "                    f = fa(t,candidate)\n",
    "                    subset = filter(lambda x: set(f)< set(x), cliques)\n",
    "                    if subset == []:\n",
    "                        cliques.append(f)\n",
    "                    t.remove_node(candidate)\n",
    "                    size.pop(candidate)\n",
    "                    # print candidate, t.nodes()\n",
    "            # draw_graph(t, pos_ex)\n",
    "            return fill_ins, cliques"
   ]
  },
  {
   "cell_type": "code",
   "execution_count": 8,
   "metadata": {
    "collapsed": false
   },
   "outputs": [
    {
     "data": {
      "image/png": "[encoded data removed]",
      "text/plain": [
       "<matplotlib.figure.Figure at 0x108541bd0>"
      ]
     },
     "metadata": {},
     "output_type": "display_data"
    }
   ],
   "source": [
    "T = nx.Graph(title='triangulation_example')\n",
    "T.add_nodes_from([('A', {'type': 'chance', 'domain': [1, 2]}), \n",
    "                  ('B', {'type': 'chance', 'domain': [1, 2]}),\n",
    "                  ('C', {'type': 'chance', 'domain': [1, 2]}), \n",
    "                  ('D', {'type': 'chance', 'domain': [1, 2]}),\n",
    "                  ('E', {'type': 'chance', 'domain': [1, 2]}),\n",
    "                  ('F', {'type': 'chance', 'domain': [1, 2]}), \n",
    "                  ('G', {'type': 'chance', 'domain': [1, 2]}),\n",
    "                  ('H', {'type': 'chance', 'domain': [1, 2]}), \n",
    "                  ('I', {'type': 'chance', 'domain': [1, 2]}),\n",
    "                  ('J', {'type': 'chance', 'domain': [1, 2]})])\n",
    "T.add_edges_from([('A', 'B'), ('B','E'),('A','C'),('B','C'),('B','D'),('E','D'),('E','F'),\n",
    "                  ('A','D'),('E','C'),('B','G'),('E','I'),('C','D'),('D','F'),('C','H'),('C','G'),\n",
    "                  ('D','G'),('D','I'),('F','I'),('H','J'),('G','J'),('C','J'),('H','G')])\n",
    "\n",
    "pos_ex = {'A':(0,300),'B':(200,300),'C':(100,200),'D':(300,200),'E':(400,300),\n",
    "          'F':(500,200),'G':(200,100),'H':(0,100),'I':(400,100),'J':(100,0)}\n",
    "\n",
    "draw_graph(T, pos_ex)"
   ]
  },
  {
   "cell_type": "code",
   "execution_count": 9,
   "metadata": {
    "collapsed": false
   },
   "outputs": [
    {
     "data": {
      "text/plain": [
       "True"
      ]
     },
     "execution_count": 9,
     "metadata": {},
     "output_type": "execute_result"
    }
   ],
   "source": [
    "order = {'A':5,'B':0,'C':4,'D':0,'E':0,'F':0,'G':0,'H':3,'I':2,'J':1}\n",
    "windows = {0:['A','B','C','D','E','F','G','H','I','J']}\n",
    "\n",
    "nx.is_chordal(T)"
   ]
  },
  {
   "cell_type": "code",
   "execution_count": 10,
   "metadata": {
    "collapsed": false
   },
   "outputs": [
    {
     "name": "stdout",
     "output_type": "stream",
     "text": [
      "[]\n",
      "[['A', 'C', 'B', 'D'], ['F', 'I', 'E', 'D'], ['H', 'C', 'J', 'G']]\n"
     ]
    }
   ],
   "source": [
    "fill_ins, cliques = triangulate(T)\n",
    "print fill_ins\n",
    "print cliques"
   ]
  },
  {
   "cell_type": "code",
   "execution_count": 11,
   "metadata": {
    "collapsed": false
   },
   "outputs": [
    {
     "data": {
      "text/plain": [
       "{frozenset({'A', 'B', 'C', 'D'}),\n",
       " frozenset({'D', 'E', 'F', 'I'}),\n",
       " frozenset({'B', 'C', 'D', 'E'}),\n",
       " frozenset({'C', 'G', 'H', 'J'}),\n",
       " frozenset({'B', 'C', 'D', 'G'})}"
      ]
     },
     "execution_count": 11,
     "metadata": {},
     "output_type": "execute_result"
    }
   ],
   "source": [
    "nx.chordal_graph_cliques(T)"
   ]
  },
  {
   "cell_type": "code",
   "execution_count": 12,
   "metadata": {
    "collapsed": false
   },
   "outputs": [
    {
     "name": "stdout",
     "output_type": "stream",
     "text": [
      "['A', 'F', 'H', 'I', 'J']\n"
     ]
    }
   ],
   "source": [
    "w = ['A','B','C','D','E','F','G','H','I','J']\n",
    "simplicial = [n for n in w if is_simplicial(T, n)]\n",
    "print simplicial"
   ]
  },
  {
   "cell_type": "code",
   "execution_count": 13,
   "metadata": {
    "collapsed": false
   },
   "outputs": [
    {
     "data": {
      "text/plain": [
       "{'A': {'domain': [1, 2], 'type': 'chance'},\n",
       " 'B': {'domain': [1, 2], 'type': 'chance'},\n",
       " 'C': {'domain': [1, 2], 'type': 'chance'},\n",
       " 'D': {'domain': [1, 2], 'type': 'chance'},\n",
       " 'E': {'domain': [1, 2], 'type': 'chance'},\n",
       " 'F': {'domain': [1, 2], 'type': 'chance'},\n",
       " 'G': {'domain': [1, 2], 'type': 'chance'},\n",
       " 'H': {'domain': [1, 2], 'type': 'chance'},\n",
       " 'I': {'domain': [1, 2], 'type': 'chance'},\n",
       " 'J': {'domain': [1, 2], 'type': 'chance'}}"
      ]
     },
     "execution_count": 13,
     "metadata": {},
     "output_type": "execute_result"
    },
    {
     "data": {
      "image/png": "[encoded data removed]",
      "text/plain": [
       "<matplotlib.figure.Figure at 0x108533510>"
      ]
     },
     "metadata": {},
     "output_type": "display_data"
    }
   ],
   "source": [
    "tree = nx.minimum_spanning_tree(T)\n",
    "draw_graph(tree, pos_ex)\n",
    "tree.node"
   ]
  },
  {
   "cell_type": "code",
   "execution_count": 14,
   "metadata": {
    "collapsed": false
   },
   "outputs": [
    {
     "data": {
      "text/plain": [
       "[['I', 'E', 'D', 'F'],\n",
       " ['C', 'H', 'J', 'G'],\n",
       " ['C', 'B', 'D', 'A'],\n",
       " ['C', 'B', 'D', 'E'],\n",
       " ['C', 'B', 'D', 'G']]"
      ]
     },
     "execution_count": 14,
     "metadata": {},
     "output_type": "execute_result"
    }
   ],
   "source": [
    "list(nx.find_cliques(T))"
   ]
  },
  {
   "cell_type": "code",
   "execution_count": 15,
   "metadata": {
    "collapsed": false,
    "scrolled": false
   },
   "outputs": [
    {
     "data": {
      "text/plain": [
       "{'A', 'C', 'E', 'I'}"
      ]
     },
     "execution_count": 15,
     "metadata": {},
     "output_type": "execute_result"
    }
   ],
   "source": [
    "nx.find_induced_nodes(T, 'A', 'I')"
   ]
  },
  {
   "cell_type": "markdown",
   "metadata": {},
   "source": [
    "#### Junction Tree from a triangulated graph\n",
    "It requires:\n",
    "* An undirected graph with discrete variables as nodes\n",
    "* For each clique $U$ in the graph there is a potential $\\phi_{U}$\n",
    "\n",
    "The compilation part of the method is to:\n",
    "* triangulate the graph\n",
    "* form a potential $\\phi_{U}$ for each clique $U$ of the triangulated graph\n",
    "* construct a junction tree over the cliques\n",
    "\n",
    "####Junction Tree Property\n",
    "\n",
    "For each pair $U$, $V$ of cliques with intersection $S$, all cliques between $U$ and $V$ contain $S$\n",
    "\n",
    "####Propagation\n",
    "* Giving all links in the junction tree a label consisting of the intersection of the adjacent nodes (Separators)\n",
    "* Attaching a potential to all separators (initialized as one)\n",
    "* letting the nodes communicate via the separators: A message from $U$ to $V$ with separator $S$ has the form that $\\phi_{U}$ is marginalized down to $S$ resulting in $\\phi_{S}^{\\prime}$ ; $\\phi_{S}^{\\prime}$ is placed on the separator and ${\\phi^{\\prime}(S)}/{\\phi(S)}$ is multiplied on $\\phi_{V}$\n",
    "\n",
    "###Junction Trees and Maximal Spanning Trees\n",
    "\n",
    "The junction graph for $G$ has clique set $C$ as nodes and for each pair $U$, $V$ of cliques with nonempty intersection $R$ there is a link with label $R$. Each link has a weight which is the number of variables in the label.\n",
    "\n",
    "A spanning tree for the junction graph G is a junction tree if and only if it is a spanning tree of maximal weight.\n",
    "\n",
    "####Maximum Spanning Tree\n",
    "A maximum spanning tree is a spanning tree of a weighted graph. It can be computed by negating the weights for each edge and applying Kruskai's Algorithm.\n",
    "\n",
    "\n"
   ]
  },
  {
   "cell_type": "code",
   "execution_count": 27,
   "metadata": {
    "collapsed": false
   },
   "outputs": [
    {
     "name": "stdout",
     "output_type": "stream",
     "text": [
      "(['I', 'E', 'D', 'F'], ['C', 'H', 'J', 'G'], ['C', 'B', 'D', 'A'], ['C', 'B', 'D', 'E'], ['C', 'B', 'D', 'G'])\n"
     ]
    }
   ],
   "source": [
    "G = T.copy()\n",
    "e = [(tuple(c1), tuple(c2), -c1c2)\n",
    "                               for (c1, c2) in combinations(nx.find_cliques(G), 2)\n",
    "                               for c1c2 in [len(set(c1).intersection(set(c2)))] if c1c2 > 0]\n",
    "# print e\n",
    "\n",
    "cliques = nx.find_cliques(G)\n",
    "print tuple(cliques)\n",
    "edges = []\n",
    "for c1, c2 in combinations(cliques, 2):\n",
    "    #print tuple(c1)\n",
    "    #print 'Combination: ', c1, c2, ' Weight: ', len(set(c1).intersection(set(c2)))\n",
    "    for c1c2 in [len(set(c1).intersection(set(c2)))]:\n",
    "        #print 'Weight: ', c1c2\n",
    "        if c1c2 >0:\n",
    "            print 'Result: ',(c1,c2,-c1c2)"
   ]
  },
  {
   "cell_type": "code",
   "execution_count": null,
   "metadata": {
    "collapsed": true
   },
   "outputs": [],
   "source": [
    "def make_jtree_from_tri_graph(G):\n",
    "    \"\"\"returns JT graph\"\"\"\n",
    "\n",
    "    # clique graph\n",
    "    CG = nx.Graph()\n",
    "    # maximal weight spanning tree of clique graph is guaranteed to be a junction tree\n",
    "    # (i.e., it satisfies running intersection property)\n",
    "    # where weight is the size of the intersection between adjacent cliques.\n",
    "    CG.add_weighted_edges_from((tuple(c1), tuple(c2), -c1c2)\n",
    "                               for (c1, c2) in it.combinations(nx.find_cliques(G), 2)\n",
    "                               for c1c2 in [len(set(c1).intersection(set(c2)))] if c1c2 > 0)\n",
    "    JT = nx.Graph(nx.mst(CG))  # Minimal weight spanning tree for CliqueGraph\n",
    "    for src, targ in JT.edges():\n",
    "        JT[src][targ][\"sep\"] = tuple(set(src).intersection(set(targ)))\n",
    "\n",
    "    return JT\n"
   ]
  }
 ],
 "metadata": {
  "kernelspec": {
   "display_name": "Python 2",
   "language": "python",
   "name": "python2"
  }
 },
 "nbformat": 4,
 "nbformat_minor": 0
}
