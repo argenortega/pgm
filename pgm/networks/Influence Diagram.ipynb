{
 "cells": [
  {
   "cell_type": "code",
   "execution_count": 1,
   "metadata": {
    "collapsed": false
   },
   "outputs": [
    {
     "name": "stdout",
     "output_type": "stream",
     "text": [
      "Populating the interactive namespace from numpy and matplotlib\n",
      "Python 2.7.10 |Anaconda 2.3.0 (x86_64)| (default, May 28 2015, 17:04:42) \n",
      "[GCC 4.2.1 (Apple Inc. build 5577)] on darwin\n"
     ]
    }
   ],
   "source": [
    "%pylab inline\n",
    "%matplotlib inline\n",
    "import sys; print('Python %s on %s' % (sys.version, sys.platform))\n",
    "sys.path.extend(['/Users/Argen/Documents/MAS/R&D/Code/pgm'])"
   ]
  },
  {
   "cell_type": "code",
   "execution_count": 2,
   "metadata": {
    "collapsed": true
   },
   "outputs": [],
   "source": [
    "import matplotlib.pylab as pylab\n",
    "pylab.rcParams['figure.figsize'] = 16, 12  # that's default image size for this interactive session"
   ]
  },
  {
   "cell_type": "code",
   "execution_count": 3,
   "metadata": {
    "collapsed": true
   },
   "outputs": [],
   "source": [
    "import numpy as np\n",
    "from itertools import combinations\n",
    "import matplotlib.pyplot as plt"
   ]
  },
  {
   "cell_type": "code",
   "execution_count": 4,
   "metadata": {
    "collapsed": true
   },
   "outputs": [],
   "source": [
    "import networkx as nx"
   ]
  },
  {
   "cell_type": "code",
   "execution_count": 5,
   "metadata": {
    "collapsed": true
   },
   "outputs": [],
   "source": [
    "from pgm.nodes.chance import Chance\n",
    "from pgm.nodes.decision import Decision\n",
    "from pgm.nodes.utility import Utility"
   ]
  },
  {
   "cell_type": "markdown",
   "metadata": {},
   "source": [
    "# Tools"
   ]
  },
  {
   "cell_type": "code",
   "execution_count": 6,
   "metadata": {
    "collapsed": true
   },
   "outputs": [],
   "source": [
    "def node_types(graph):\n",
    "    chance = []\n",
    "    decision = []\n",
    "    utility = []\n",
    "    \n",
    "    for n in graph:\n",
    "        if graph.node[n]['type'] == 'chance':\n",
    "            chance.append(n)\n",
    "        elif graph.node[n]['type'] == 'decision':\n",
    "            decision.append(n)\n",
    "        elif graph.node[n]['type'] == 'utility':\n",
    "            utility.append(n)\n",
    "    \n",
    "    nodes = {'chance':chance, 'decision':decision, 'utility':utility}\n",
    "    \n",
    "    return nodes"
   ]
  },
  {
   "cell_type": "markdown",
   "metadata": {},
   "source": [
    "To do:\n",
    "-----\n",
    "[ ] Plot edges type (nx.draw_networkx_edges(G, pos, edgelist=edges, width=6, alpha=0.5, edge_color='b', style='dashed')"
   ]
  },
  {
   "cell_type": "code",
   "execution_count": 7,
   "metadata": {
    "collapsed": true
   },
   "outputs": [],
   "source": [
    "def draw_graph(graph, pos=None, size=600, alpha=0.9, show=False, save=False):\n",
    "    # 's' = square\n",
    "    # 'D' = diamond\n",
    "    # 'o' = circle\n",
    "\n",
    "    title = graph.graph['title']\n",
    "\n",
    "    plt.figure()\n",
    "    plt.axis('off')\n",
    "\n",
    "    if pos==None:\n",
    "        p = nx.graphviz_layout(graph, prog='dot')\n",
    "    else:\n",
    "        p=pos\n",
    "\n",
    "    node_dict = node_types(graph)\n",
    "    chance, decision, utility = node_dict.get('chance'), node_dict.get('decision'), node_dict.get('utility')\n",
    "    # print len(chance), len(decision), len(utility)\n",
    "    \n",
    "        \n",
    "    if len(chance) > 0:\n",
    "        nx.draw_networkx_nodes(graph, p, nodelist=chance, node_size=size, node_shape='o', alpha=alpha, node_color='w')\n",
    "    if len(decision) > 0:\n",
    "        nx.draw_networkx_nodes(graph, p, nodelist=decision, node_size=size, node_shape='s',alpha=alpha, node_color='g')\n",
    "    if len(utility) > 0:\n",
    "        nx.draw_networkx_nodes(graph, p, nodelist=utility, node_size=size, node_shape='D', alpha=alpha, node_color='r')\n",
    "\n",
    "    nx.draw_networkx_edges(graph, pos=p)\n",
    "    nx.draw_networkx_labels(graph, pos=p)\n",
    "\n",
    "    if save:\n",
    "        nx.write_dot(graph, title + '.dot')\n",
    "        plt.savefig(title + '.png')\n",
    "\n",
    "    if show:\n",
    "        plt.show()"
   ]
  },
  {
   "cell_type": "markdown",
   "metadata": {},
   "source": [
    "# Influence Diagram"
   ]
  },
  {
   "cell_type": "markdown",
   "metadata": {},
   "source": [
    "## Definition"
   ]
  },
  {
   "cell_type": "code",
   "execution_count": 8,
   "metadata": {
    "collapsed": true
   },
   "outputs": [],
   "source": [
    "a = Chance('A')\n",
    "b = Chance('B')\n",
    "c = Chance('C')\n",
    "d = Chance('D')\n",
    "e = Chance('E')\n",
    "f = Chance('F')\n",
    "g = Chance('G')\n",
    "h = Chance('H')\n",
    "i = Chance('I')\n",
    "j = Chance('J')\n",
    "k = Chance('K')\n",
    "l = Chance('L')\n",
    "\n",
    "d1 = Decision('D1')\n",
    "d2 = Decision('D2')\n",
    "d3 = Decision('D3')\n",
    "d4 = Decision('D4')\n",
    "\n",
    "v1 = Utility('V1')\n",
    "v2 = Utility('V2')\n",
    "v3 = Utility('V3')\n",
    "v4 = Utility('V4')\n",
    "\n",
    "chance = [a, b, c, d, e, f, g, h, i, j, k, l]\n",
    "decision = [d1, d2, d3, d4]\n",
    "utility = [v1, v2, v3, v4]\n",
    "\n",
    "edges = [(a, c), (b, c), (b, d1), (b, d), (d1, v1), (d1, d),\n",
    "         (c, e), (d, e), (d, f), (e, g), (e, d2), (f, d2), (f, h),\n",
    "         (g, d4), (g, i), (d2, i), (d2, d3), (h, k), (h, j), (d3, k), (d3, v2), (d3, d4),\n",
    "         (d4, l), (i, l), (j, v3), (k, v3), (l, v4)]\n",
    "nodes = []\n",
    "nodes.extend(chance)\n",
    "nodes.extend(decision)\n",
    "nodes.extend(utility)"
   ]
  },
  {
   "cell_type": "code",
   "execution_count": 9,
   "metadata": {
    "collapsed": false
   },
   "outputs": [
    {
     "name": "stdout",
     "output_type": "stream",
     "text": [
      "['A', 'C', 'B', 'E', 'D', 'G', 'F', 'I', 'H', 'K', 'J', 'L'] ['D4', 'D2', 'D3', 'D1'] ['V1', 'V2', 'V3', 'V4']\n",
      "[('A', {'domain': ['T', 'F'], 'type': 'chance', 'jpt': <CPT A>}), ('B', {'domain': ['T', 'F'], 'type': 'chance', 'jpt': <CPT B>}), ('C', {'domain': ['T', 'F'], 'type': 'chance', 'jpt': <CPT C>}), ('D', {'domain': ['T', 'F'], 'type': 'chance', 'jpt': <CPT D>}), ('E', {'domain': ['T', 'F'], 'type': 'chance', 'jpt': <CPT E>}), ('F', {'domain': ['T', 'F'], 'type': 'chance', 'jpt': <CPT F>}), ('G', {'domain': ['T', 'F'], 'type': 'chance', 'jpt': <CPT G>}), ('H', {'domain': ['T', 'F'], 'type': 'chance', 'jpt': <CPT H>}), ('I', {'domain': ['T', 'F'], 'type': 'chance', 'jpt': <CPT I>}), ('J', {'domain': ['T', 'F'], 'type': 'chance', 'jpt': <CPT J>}), ('K', {'domain': ['T', 'F'], 'type': 'chance', 'jpt': <CPT K>}), ('L', {'domain': ['T', 'F'], 'type': 'chance', 'jpt': <CPT L>}), ('D1', {'domain': ['d1', 'd2'], 'type': 'decision'}), ('D2', {'domain': ['d1', 'd2'], 'type': 'decision'}), ('D3', {'domain': ['d1', 'd2'], 'type': 'decision'}), ('D4', {'domain': ['d1', 'd2'], 'type': 'decision'}), ('V1', {'ut': <Utility Table V1>, 'type': 'utility'}), ('V2', {'ut': <Utility Table V2>, 'type': 'utility'}), ('V3', {'ut': <Utility Table V3>, 'type': 'utility'}), ('V4', {'ut': <Utility Table V4>, 'type': 'utility'})]\n",
      "[('A', 'C'), ('B', 'C'), ('B', 'D1'), ('B', 'D'), ('D1', 'V1'), ('D1', 'D'), ('C', 'E'), ('D', 'E'), ('D', 'F'), ('E', 'G'), ('E', 'D2'), ('F', 'D2'), ('F', 'H'), ('G', 'D4'), ('G', 'I'), ('D2', 'I'), ('D2', 'D3'), ('H', 'K'), ('H', 'J'), ('D3', 'K'), ('D3', 'V2'), ('D3', 'D4'), ('D4', 'L'), ('I', 'L'), ('J', 'V3'), ('K', 'V3'), ('L', 'V4')]\n"
     ]
    }
   ],
   "source": [
    "net = nx.DiGraph(title='influence_diagram')\n",
    "\n",
    "id_nodes = [n.node for n in nodes]\n",
    "id_edges = [(e[0].name, e[1].name) for e in edges]\n",
    "\n",
    "net.add_nodes_from(id_nodes)\n",
    "net.add_edges_from(id_edges)\n",
    "\n",
    "node_dict = node_types(net)\n",
    "chance, decision, utility = node_dict.get('chance'), node_dict.get('decision'), node_dict.get('utility')\n",
    "\n",
    "print chance, decision, utility\n",
    "print id_nodes\n",
    "print id_edges"
   ]
  },
  {
   "cell_type": "code",
   "execution_count": 10,
   "metadata": {
    "collapsed": false
   },
   "outputs": [
    {
     "data": {
      "image/png": "[encoded data removed]",
      "text/plain": [
       "<matplotlib.figure.Figure at 0x108522e90>"
      ]
     },
     "metadata": {},
     "output_type": "display_data"
    }
   ],
   "source": [
    "pos = nx.graphviz_layout(net, prog='dot')\n",
    "draw_graph(net, pos)"
   ]
  },
  {
   "cell_type": "markdown",
   "metadata": {},
   "source": [
    "### Validation"
   ]
  },
  {
   "cell_type": "code",
   "execution_count": 11,
   "metadata": {
    "collapsed": false
   },
   "outputs": [
    {
     "name": "stdout",
     "output_type": "stream",
     "text": [
      "----------\n",
      "[] -> A -> ['C']\n",
      "----------\n",
      "----------\n",
      "['A', 'B'] -> C -> ['E']\n",
      "----------\n",
      "----------\n",
      "[] -> B -> ['C', 'D', 'D1']\n",
      "----------\n",
      "----------\n",
      "['C', 'D'] -> E -> ['D2', 'G']\n",
      "----------\n",
      "----------\n",
      "['B', 'D1'] -> D -> ['E', 'F']\n",
      "----------\n",
      "----------\n",
      "['E'] -> G -> ['I', 'D4']\n",
      "----------\n",
      "----------\n",
      "['D'] -> F -> ['H', 'D2']\n",
      "----------\n",
      "----------\n",
      "['D2', 'G'] -> I -> ['L']\n",
      "----------\n",
      "----------\n",
      "['F'] -> H -> ['K', 'J']\n",
      "----------\n",
      "----------\n",
      "['H', 'D3'] -> K -> ['V3']\n",
      "----------\n",
      "----------\n",
      "['H'] -> J -> ['V3']\n",
      "----------\n",
      "----------\n",
      "['I', 'D4'] -> L -> ['V4']\n",
      "----------\n",
      "----------\n",
      "['D1'] -> V1 -> []\n",
      "----------\n",
      "----------\n",
      "['D3'] -> V2 -> []\n",
      "----------\n",
      "----------\n",
      "['K', 'J'] -> V3 -> []\n",
      "----------\n",
      "----------\n",
      "['L'] -> V4 -> []\n",
      "----------\n",
      "----------\n",
      "['D3', 'G'] -> D4 -> ['L']\n",
      "----------\n",
      "----------\n",
      "['E', 'F'] -> D2 -> ['I', 'D3']\n",
      "----------\n",
      "----------\n",
      "['D2'] -> D3 -> ['D4', 'K', 'V2']\n",
      "----------\n",
      "----------\n",
      "['B'] -> D1 -> ['V1', 'D']\n",
      "----------\n",
      "ID is validated.\n"
     ]
    }
   ],
   "source": [
    "# TODO: Check cpt and ut size\n",
    "\n",
    "def validate(graph, verbose=False):\n",
    "        for n in graph.nodes():\n",
    "            if verbose:\n",
    "                print '----------'\n",
    "                # print n\n",
    "                # print 'Parents: ' + graph.predecessors(n).__str__()\n",
    "                # print 'Children: ' + graph.successors(n).__str__()\n",
    "                print '%s -> %s -> %s' %(graph.predecessors(n).__str__(), n, graph.successors(n).__str__())\n",
    "                if not graph.is_directed():\n",
    "                    print 'Neighbors: ' + graph.neighbors(n).__str__()\n",
    "                print '----------'\n",
    "                # print\n",
    "        print 'ID is validated.'\n",
    "        \n",
    "validate(net, True)"
   ]
  },
  {
   "cell_type": "markdown",
   "metadata": {},
   "source": [
    "## Partial Temporal Order"
   ]
  },
  {
   "cell_type": "code",
   "execution_count": 12,
   "metadata": {
    "collapsed": false
   },
   "outputs": [
    {
     "name": "stdout",
     "output_type": "stream",
     "text": [
      "Order:  {'A': 8, 'C': 8, 'B': 0, 'E': 2, 'D': 8, 'G': 6, 'F': 2, 'I': 8, 'H': 8, 'K': 8, 'J': 8, 'L': 8, 'D4': 7, 'D2': 4, 'D3': 5, 'D1': 1}\n",
      "Windows:  {0: ['B'], 1: ['D1'], 2: ['E', 'F'], 3: ['D2'], 4: [], 5: ['D3'], 6: ['G'], 7: ['D4'], 8: ['A', 'C', 'D', 'I', 'H', 'K', 'J', 'L']}\n"
     ]
    }
   ],
   "source": [
    "des = []\n",
    "observed = []\n",
    "\n",
    "windows = {}\n",
    "order = {}\n",
    "\n",
    "\n",
    "# Sort decision orders\n",
    "for d in decision:\n",
    "    pred = list(set(nx.ancestors(net, d)) & set(decision))\n",
    "    des.insert(len(pred), d)\n",
    "    n = len(pred) * 2\n",
    "    parents = net.predecessors(d)\n",
    "    observed.extend(parents)\n",
    "    windows[n + 1] = [d]\n",
    "    windows[n] = list(set(parents).difference(set(decision)))\n",
    "    order[d] = n + 1\n",
    "    order.update({p: n for p in parents})\n",
    "n = max(order.values()) + 1\n",
    "unobserved = list(set(chance).difference(observed))\n",
    "order.update({u: n for u in unobserved})\n",
    "windows.update({n: unobserved})\n",
    "print 'Order: ', order\n",
    "print 'Windows: ', windows"
   ]
  },
  {
   "cell_type": "markdown",
   "metadata": {},
   "source": [
    "##### Function"
   ]
  },
  {
   "cell_type": "code",
   "execution_count": null,
   "metadata": {
    "collapsed": true
   },
   "outputs": [],
   "source": []
  },
  {
   "cell_type": "markdown",
   "metadata": {},
   "source": [
    "### Moralize"
   ]
  },
  {
   "cell_type": "code",
   "execution_count": 13,
   "metadata": {
    "collapsed": true
   },
   "outputs": [],
   "source": [
    "def moralize(digraph):\n",
    "    G = digraph.copy()\n",
    "    G.graph['title']= 'moral_steps'\n",
    "    \n",
    "    nd = node_types(G)\n",
    "    c, d, u = nd.get('chance'), nd.get('decision'), nd.get('utility')\n",
    "    \n",
    "    # Remove information links\n",
    "    for n in d:\n",
    "        for p in digraph.predecessors(n):\n",
    "            G.remove_edge(p, n)\n",
    "            \n",
    "    # Add moral links\n",
    "    moral_edges = []\n",
    "    for n in digraph.nodes_iter():\n",
    "        arcs = list(combinations(G.predecessors(n), 2))\n",
    "        for a in arcs:\n",
    "            if a in digraph.edges():\n",
    "                moral_edges.append(a)\n",
    "            elif a[::-1] in digraph.edges():\n",
    "                moral_edges.append(a[::-1])\n",
    "            else:\n",
    "                moral_edges.append(a)\n",
    "            \n",
    "    G.add_edges_from(moral_edges)\n",
    "    \n",
    "    # Convert to undirected graph\n",
    "    moralgraph = G.to_undirected()\n",
    "    moralgraph.graph['title']='moral_graph'\n",
    "        \n",
    "    # Remove utility nodes\n",
    "    moralgraph.remove_nodes_from(utility)\n",
    "    return moralgraph"
   ]
  },
  {
   "cell_type": "markdown",
   "metadata": {},
   "source": [
    "### Evidence"
   ]
  },
  {
   "cell_type": "code",
   "execution_count": null,
   "metadata": {
    "collapsed": true
   },
   "outputs": [],
   "source": []
  },
  {
   "cell_type": "markdown",
   "metadata": {},
   "source": [
    "### Triangulated Graph"
   ]
  },
  {
   "cell_type": "code",
   "execution_count": 14,
   "metadata": {
    "collapsed": true
   },
   "outputs": [],
   "source": [
    "def triangulate(ugraph):\n",
    "    t = ugraph.copy()\n",
    "    fill_ins = []\n",
    "    cliques = []\n",
    "    \n",
    "    for n, w in sorted(windows.items(), reverse=True):\n",
    "        size = {}\n",
    "        for i in w:\n",
    "            size[i] = sz(fa(t, i))\n",
    "    \n",
    "        while size != {}:\n",
    "            # Remove simplicial nodes\n",
    "            simplicial = [n for n in size if is_simplicial(t, n)]\n",
    "    \n",
    "            if len(simplicial) > 0:\n",
    "                # print len(size), simplicial, t.nodes()\n",
    "    \n",
    "                for n in simplicial:\n",
    "                    f = fa(t,n)\n",
    "                    subset = filter(lambda x: set(f)< set(x), cliques)\n",
    "                    if subset == []:\n",
    "                        cliques.append(f)\n",
    "                    t.remove_node(n)\n",
    "                    size.pop(n)\n",
    "                # print t.nodes()\n",
    "            else:\n",
    "                # print len(size),t.nodes()\n",
    "                for i in size:\n",
    "                    size[i] = sz(fa(t, i))\n",
    "    \n",
    "                if len(size) > 0:\n",
    "                    candidate = min(size, key=size.get)\n",
    "                    # s = t.subgraph(fa(t, candidate))\n",
    "                    neigh = nb(t, candidate)\n",
    "    \n",
    "                    # print list(combinations(n, 2))\n",
    "                    fill = []\n",
    "                    # TODO: Algo esta mal con los cliques\n",
    "                    for e1, e2 in list(combinations(neigh, 2)):\n",
    "                        if not t.has_edge(e1, e2) or not t.has_edge(e2, e1):\n",
    "                            # print candidate, e1, e2\n",
    "                            t.add_edge(e1, e2)\n",
    "                            fill_ins.append((e1, e2))\n",
    "                            \n",
    "                    f = fa(t,candidate)\n",
    "                    subset = filter(lambda x: set(f)< set(x), cliques)\n",
    "                    if subset == []:\n",
    "                        cliques.append(f)\n",
    "                    t.remove_node(candidate)\n",
    "                    size.pop(candidate)\n",
    "                    # print candidate, t.nodes()\n",
    "    \n",
    "            # draw_graph(t, pos_ex)\n",
    "    triangulated = ugraph.copy()\n",
    "    triangulated.add_edges_from(fill_ins)\n",
    "    return triangulated"
   ]
  },
  {
   "cell_type": "markdown",
   "metadata": {},
   "source": [
    "## Junction Tree"
   ]
  },
  {
   "cell_type": "code",
   "execution_count": null,
   "metadata": {
    "collapsed": true
   },
   "outputs": [],
   "source": []
  },
  {
   "cell_type": "markdown",
   "metadata": {},
   "source": [
    "## Probability Propagation"
   ]
  },
  {
   "cell_type": "code",
   "execution_count": null,
   "metadata": {
    "collapsed": true
   },
   "outputs": [],
   "source": []
  }
 ],
 "metadata": {
  "celltoolbar": "Raw Cell Format",
  "kernelspec": {
   "display_name": "Python 2",
   "language": "python",
   "name": "python2"
  },
  "language_info": {
   "codemirror_mode": {
    "name": "ipython",
    "version": 2
   },
   "file_extension": ".py",
   "mimetype": "text/x-python",
   "name": "python",
   "nbconvert_exporter": "python",
   "pygments_lexer": "ipython2",
   "version": "2.7.10"
  }
 },
 "nbformat": 4,
 "nbformat_minor": 0
}
